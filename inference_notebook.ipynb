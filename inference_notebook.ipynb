{
 "cells": [
  {
   "cell_type": "code",
   "execution_count": 21,
   "metadata": {},
   "outputs": [],
   "source": [
    "import scipy.misc\n",
    "from numpy import genfromtxt\n",
    "from PIL import Image, ImageDraw, ImageFont\n",
    "import torch\n",
    "import os\n",
    "import imageio"
   ]
  },
  {
   "cell_type": "code",
   "execution_count": 3,
   "metadata": {},
   "outputs": [
    {
     "name": "stderr",
     "output_type": "stream",
     "text": [
      "ffmpeg version 4.2.7-0ubuntu0.1 Copyright (c) 2000-2022 the FFmpeg developers\n",
      "  built with gcc 9 (Ubuntu 9.4.0-1ubuntu1~20.04.1)\n",
      "  configuration: --prefix=/usr --extra-version=0ubuntu0.1 --toolchain=hardened --libdir=/usr/lib/x86_64-linux-gnu --incdir=/usr/include/x86_64-linux-gnu --arch=amd64 --enable-gpl --disable-stripping --enable-avresample --disable-filter=resample --enable-avisynth --enable-gnutls --enable-ladspa --enable-libaom --enable-libass --enable-libbluray --enable-libbs2b --enable-libcaca --enable-libcdio --enable-libcodec2 --enable-libflite --enable-libfontconfig --enable-libfreetype --enable-libfribidi --enable-libgme --enable-libgsm --enable-libjack --enable-libmp3lame --enable-libmysofa --enable-libopenjpeg --enable-libopenmpt --enable-libopus --enable-libpulse --enable-librsvg --enable-librubberband --enable-libshine --enable-libsnappy --enable-libsoxr --enable-libspeex --enable-libssh --enable-libtheora --enable-libtwolame --enable-libvidstab --enable-libvorbis --enable-libvpx --enable-libwavpack --enable-libwebp --enable-libx265 --enable-libxml2 --enable-libxvid --enable-libzmq --enable-libzvbi --enable-lv2 --enable-omx --enable-openal --enable-opencl --enable-opengl --enable-sdl2 --enable-libdc1394 --enable-libdrm --enable-libiec61883 --enable-nvenc --enable-chromaprint --enable-frei0r --enable-libx264 --enable-shared\n",
      "  libavutil      56. 31.100 / 56. 31.100\n",
      "  libavcodec     58. 54.100 / 58. 54.100\n",
      "  libavformat    58. 29.100 / 58. 29.100\n",
      "  libavdevice    58.  8.100 / 58.  8.100\n",
      "  libavfilter     7. 57.100 /  7. 57.100\n",
      "  libavresample   4.  0.  0 /  4.  0.  0\n",
      "  libswscale      5.  5.100 /  5.  5.100\n",
      "  libswresample   3.  5.100 /  3.  5.100\n",
      "  libpostproc    55.  5.100 / 55.  5.100\n",
      "Input #0, mov,mp4,m4a,3gp,3g2,mj2, from 'test2.mp4':\n",
      "  Metadata:\n",
      "    major_brand     : mp42\n",
      "    minor_version   : 0\n",
      "    compatible_brands: mp41isom\n",
      "    creation_time   : 2020-10-06T09:03:00.000000Z\n",
      "  Duration: 00:00:15.33, start: 0.000000, bitrate: 5060 kb/s\n",
      "    Stream #0:0(und): Video: h264 (Main) (avc1 / 0x31637661), yuv420p, 1280x720 [SAR 1:1 DAR 16:9], 5059 kb/s, 30 fps, 30 tbr, 30k tbn, 60 tbc (default)\n",
      "    Metadata:\n",
      "      creation_time   : 2021-05-10T01:02:34.000000Z\n",
      "      handler_name    : VideoHandler\n",
      "      encoder         : AVC Coding\n",
      "Stream mapping:\n",
      "  Stream #0:0 -> #0:0 (h264 (native) -> png (native))\n",
      "Press [q] to stop, [?] for help\n",
      "Output #0, image2, to './frames/frame_%06d.png':\n",
      "  Metadata:\n",
      "    major_brand     : mp42\n",
      "    minor_version   : 0\n",
      "    compatible_brands: mp41isom\n",
      "    encoder         : Lavf58.29.100\n",
      "    Stream #0:0(und): Video: png, rgb24, 1280x720 [SAR 1:1 DAR 16:9], q=2-31, 200 kb/s, 30 fps, 30 tbn, 30 tbc (default)\n",
      "    Metadata:\n",
      "      creation_time   : 2021-05-10T01:02:34.000000Z\n",
      "      handler_name    : VideoHandler\n",
      "      encoder         : Lavc58.54.100 png\n",
      "frame=  460 fps= 13 q=-0.0 Lsize=N/A time=00:00:15.33 bitrate=N/A speed=0.429x    \n",
      "video:748349kB audio:0kB subtitle:0kB other streams:0kB global headers:0kB muxing overhead: unknown\n"
     ]
    }
   ],
   "source": [
    "# If you have a video put 1. If you have frames put 2.\n",
    "# Based on your choice, update the below cells accordingly\n",
    "video_frames = 1\n",
    "\n",
    "# If you would like to visualize the flow frames. This WILL DELETE ALL THE FLOWFRAMES GENERATED TO SAVE STORAGE.\n",
    "visualize = False \n",
    "\n",
    "# Video Input\n",
    "\n",
    "if video_frames == 1:\n",
    "    video_name = 'test2.mp4' # If you have a video you want to run inference on. Please include .mp4 or whatever extension the video has.\n",
    "    video_local_gdrive = 2 # If you want to upload a video from your local drive, choose 1. If from your google drive, choose 2. If some other option, go to section \"Upload Video\".\n",
    "  \n",
    "\n",
    "# Frames Input\n",
    "\n",
    "if video_frames == 2:\n",
    "    frames_zip_name = \"2 - Arabic.zip\" # If you have the frames, enter its zip file here. For ex: \"3 - Video.zip\"\n",
    "    frames_directory = '../gdrive/My Drive/Hajj Videos/Frames/' # Where the frames are located. If its in gdrive: '../gdrive/My Drive/Location of Zip/' Change the Location of Zip to wherever yours is stored.\n",
    "\n",
    "# Skip / Average Options\n",
    "\n",
    "no_frames_skip = 1 # How many frames you want skipped. For eg if its 2 then from frames 1,2,3,4,5,6,7 we take frames 1,4,7. Leave at None to not skip frames.\n",
    "\n",
    "# Only one can work at a time\n",
    "no_average_frames = None # How many frames you want to average. Leave at None if you don't want to avg.\n",
    "running_average = False # If you want to visually see running average\n",
    "\n",
    "\n",
    "if video_frames == 1:\n",
    "    def mkdir_ifnotexists(dir):\n",
    "        if os.path.exists(dir):\n",
    "            return\n",
    "        os.mkdir(dir)\n",
    "\n",
    "if video_frames == 1:\n",
    "    vid_file = video_name\n",
    "    frame_pth = './frames'\n",
    "    mkdir_ifnotexists(frame_pth)\n",
    "    cmd = \"ffmpeg -i %s -start_number 0 -vsync 0 %s/frame_%%06d.png\" % (\n",
    "                vid_file,\n",
    "                frame_pth,\n",
    "            )\n",
    "    os.system(cmd)\n",
    "\n",
    "if video_frames == 2:\n",
    "\n",
    "    file_dir = \"./frames/\"\n",
    "    for count, filename in enumerate(sorted(os.listdir(file_dir))):\n",
    "        # print(filename)\n",
    "        if filename[-11:] == \"_UTC+01.jpg\":\n",
    "            src = file_dir + filename\n",
    "            dst = file_dir + str(count).zfill(6) + '.png'\n",
    "            os.rename(src, dst)\n",
    "\n",
    "if no_frames_skip != None:\n",
    "    directory = \"./frames\"\n",
    "\n",
    "    temp_skip = no_frames_skip\n",
    "\n",
    "    for i, file in enumerate(sorted(os.listdir(directory))):\n",
    "        if (temp_skip != 0) and (file[-4:] == \".png\"):\n",
    "            os.remove(directory + '/' + file)\n",
    "            temp_skip = temp_skip - 1\n",
    "            continue\n",
    "        temp_skip = no_frames_skip\n",
    "\n",
    "if no_frames_skip != None:\n",
    "    file_dir = \"./frames/\"\n",
    "    for count, filename in enumerate(sorted(os.listdir(file_dir))):\n",
    "        # print(filename)\n",
    "        if filename[-4:] == \".png\":\n",
    "            src = file_dir + filename\n",
    "            dst = file_dir + str(count).zfill(6) + '.png'\n",
    "            os.rename(src, dst)"
   ]
  },
  {
   "cell_type": "code",
   "execution_count": 4,
   "metadata": {},
   "outputs": [],
   "source": [
    "dir = \"./frames\"\n",
    "img = Image.open(\"./frames/000000.png\")\n",
    "# New Sizes\n",
    "x = (img.size[0] // 64) * 64\n",
    "y = (img.size[1] // 64) * 64\n",
    "for frame in sorted(os.listdir(dir)):\n",
    "    if frame[-3:] == 'png':\n",
    "\n",
    "    # Open image and resize\n",
    "        image = Image.open(dir + \"/\" + frame)\n",
    "        new_image = image.resize((x, y))\n",
    "\n",
    "        # Remove image and write new one\n",
    "        os.remove(dir + \"/\" + frame)\n",
    "        new_image.save(dir + \"/\" + frame)\n",
    "\n",
    "f = open(\"./frames/test1.txt\", \"w\")\n",
    "\n",
    "i = 0\n",
    "for frame in sorted(os.listdir(\"./frames\")):\n",
    "    if frame[-3:] == 'png':\n",
    "        if i != 0:\n",
    "            f.write(\"\\n\")        \n",
    "        f.write(frame[:-4])\n",
    "        i += 1\n",
    "\n",
    "f.close()"
   ]
  },
  {
   "cell_type": "code",
   "execution_count": 2,
   "metadata": {},
   "outputs": [],
   "source": [
    "import os\n",
    "os.chdir('./NWPU-Crowd-Sample-Code/')\n",
    "# !python test.py"
   ]
  },
  {
   "cell_type": "code",
   "execution_count": 58,
   "metadata": {},
   "outputs": [
    {
     "name": "stdout",
     "output_type": "stream",
     "text": [
      "modelPath:  ./model_out.pth\n",
      "/home/omarmukhtar/anaconda3/envs/ogenv02Kelvin/lib/python3.7/site-packages/torch/_tensor.py:490: UserWarning: non-inplace resize is deprecated\n",
      "  warnings.warn(\"non-inplace resize is deprecated\")\n",
      "[W NNPACK.cpp:79] Could not initialize NNPACK! Reason: Unsupported hardware.\n",
      "/home/omarmukhtar/anaconda3/envs/ogenv02Kelvin/lib/python3.7/site-packages/torch/nn/functional.py:3613: UserWarning: Default upsampling behavior when mode=bilinear is changed to align_corners=False since 0.4.0. Please specify align_corners=True if the old behavior is desired. See the documentation of nn.Upsample for details.\n",
      "  \"See the documentation of nn.Upsample for details.\".format(mode)\n"
     ]
    }
   ],
   "source": [
    "!python test.py"
   ]
  },
  {
   "cell_type": "code",
   "execution_count": 14,
   "metadata": {},
   "outputs": [],
   "source": [
    "!mkdir '../FinalFrames'"
   ]
  },
  {
   "cell_type": "code",
   "execution_count": 52,
   "metadata": {},
   "outputs": [
    {
     "name": "stderr",
     "output_type": "stream",
     "text": [
      "Lossy conversion from float64 to uint8. Range [0.0, 1.693552017211914]. Convert image to uint8 prior to saving to suppress this warning.\n"
     ]
    },
    {
     "name": "stdout",
     "output_type": "stream",
     "text": [
      "(1280, 704) (1280, 704)\n"
     ]
    },
    {
     "name": "stderr",
     "output_type": "stream",
     "text": [
      "Lossy conversion from float64 to uint8. Range [0.0, 1.693552017211914]. Convert image to uint8 prior to saving to suppress this warning.\n"
     ]
    },
    {
     "name": "stdout",
     "output_type": "stream",
     "text": [
      "(1280, 704) (1280, 704)\n"
     ]
    },
    {
     "name": "stderr",
     "output_type": "stream",
     "text": [
      "Lossy conversion from float64 to uint8. Range [0.0, 1.5868185758590698]. Convert image to uint8 prior to saving to suppress this warning.\n"
     ]
    },
    {
     "name": "stdout",
     "output_type": "stream",
     "text": [
      "(1280, 704) (1280, 704)\n"
     ]
    },
    {
     "name": "stderr",
     "output_type": "stream",
     "text": [
      "Lossy conversion from float64 to uint8. Range [0.0, 1.693552017211914]. Convert image to uint8 prior to saving to suppress this warning.\n"
     ]
    },
    {
     "name": "stdout",
     "output_type": "stream",
     "text": [
      "(1280, 704) (1280, 704)\n"
     ]
    },
    {
     "name": "stderr",
     "output_type": "stream",
     "text": [
      "Lossy conversion from float64 to uint8. Range [0.0, 1.4813729524612427]. Convert image to uint8 prior to saving to suppress this warning.\n"
     ]
    },
    {
     "name": "stdout",
     "output_type": "stream",
     "text": [
      "(1280, 704) (1280, 704)\n"
     ]
    },
    {
     "name": "stderr",
     "output_type": "stream",
     "text": [
      "Lossy conversion from float64 to uint8. Range [0.0, 1.5868185758590698]. Convert image to uint8 prior to saving to suppress this warning.\n"
     ]
    },
    {
     "name": "stdout",
     "output_type": "stream",
     "text": [
      "(1280, 704) (1280, 704)\n"
     ]
    },
    {
     "name": "stderr",
     "output_type": "stream",
     "text": [
      "Lossy conversion from float64 to uint8. Range [0.0, 1.5868185758590698]. Convert image to uint8 prior to saving to suppress this warning.\n"
     ]
    },
    {
     "name": "stdout",
     "output_type": "stream",
     "text": [
      "(1280, 704) (1280, 704)\n"
     ]
    },
    {
     "name": "stderr",
     "output_type": "stream",
     "text": [
      "Lossy conversion from float64 to uint8. Range [0.0, 1.5868185758590698]. Convert image to uint8 prior to saving to suppress this warning.\n"
     ]
    },
    {
     "name": "stdout",
     "output_type": "stream",
     "text": [
      "(1280, 704) (1280, 704)\n"
     ]
    },
    {
     "name": "stderr",
     "output_type": "stream",
     "text": [
      "Lossy conversion from float64 to uint8. Range [0.0, 1.4708112478256226]. Convert image to uint8 prior to saving to suppress this warning.\n"
     ]
    },
    {
     "name": "stdout",
     "output_type": "stream",
     "text": [
      "(1280, 704) (1280, 704)\n"
     ]
    },
    {
     "name": "stderr",
     "output_type": "stream",
     "text": [
      "Lossy conversion from float64 to uint8. Range [0.0, 1.5828344821929932]. Convert image to uint8 prior to saving to suppress this warning.\n"
     ]
    },
    {
     "name": "stdout",
     "output_type": "stream",
     "text": [
      "(1280, 704) (1280, 704)\n"
     ]
    },
    {
     "name": "stderr",
     "output_type": "stream",
     "text": [
      "Lossy conversion from float64 to uint8. Range [0.0, 1.5828346014022827]. Convert image to uint8 prior to saving to suppress this warning.\n"
     ]
    },
    {
     "name": "stdout",
     "output_type": "stream",
     "text": [
      "(1280, 704) (1280, 704)\n"
     ]
    },
    {
     "name": "stderr",
     "output_type": "stream",
     "text": [
      "Lossy conversion from float64 to uint8. Range [0.0, 1.5828346014022827]. Convert image to uint8 prior to saving to suppress this warning.\n"
     ]
    },
    {
     "name": "stdout",
     "output_type": "stream",
     "text": [
      "(1280, 704) (1280, 704)\n"
     ]
    },
    {
     "name": "stderr",
     "output_type": "stream",
     "text": [
      "Lossy conversion from float64 to uint8. Range [0.0, 1.4505517482757568]. Convert image to uint8 prior to saving to suppress this warning.\n"
     ]
    },
    {
     "name": "stdout",
     "output_type": "stream",
     "text": [
      "(1280, 704) (1280, 704)\n"
     ]
    },
    {
     "name": "stderr",
     "output_type": "stream",
     "text": [
      "Lossy conversion from float64 to uint8. Range [0.0, 1.6194038391113281]. Convert image to uint8 prior to saving to suppress this warning.\n"
     ]
    },
    {
     "name": "stdout",
     "output_type": "stream",
     "text": [
      "(1280, 704) (1280, 704)\n"
     ]
    },
    {
     "name": "stderr",
     "output_type": "stream",
     "text": [
      "Lossy conversion from float64 to uint8. Range [0.0, 1.6194038391113281]. Convert image to uint8 prior to saving to suppress this warning.\n"
     ]
    },
    {
     "name": "stdout",
     "output_type": "stream",
     "text": [
      "(1280, 704) (1280, 704)\n"
     ]
    },
    {
     "name": "stderr",
     "output_type": "stream",
     "text": [
      "Lossy conversion from float64 to uint8. Range [0.0, 1.5441787242889404]. Convert image to uint8 prior to saving to suppress this warning.\n"
     ]
    },
    {
     "name": "stdout",
     "output_type": "stream",
     "text": [
      "(1280, 704) (1280, 704)\n"
     ]
    },
    {
     "name": "stderr",
     "output_type": "stream",
     "text": [
      "Lossy conversion from float64 to uint8. Range [0.0, 1.5234161615371704]. Convert image to uint8 prior to saving to suppress this warning.\n"
     ]
    },
    {
     "name": "stdout",
     "output_type": "stream",
     "text": [
      "(1280, 704) (1280, 704)\n"
     ]
    },
    {
     "name": "stderr",
     "output_type": "stream",
     "text": [
      "Lossy conversion from float64 to uint8. Range [0.0, 1.7078921794891357]. Convert image to uint8 prior to saving to suppress this warning.\n"
     ]
    },
    {
     "name": "stdout",
     "output_type": "stream",
     "text": [
      "(1280, 704) (1280, 704)\n"
     ]
    },
    {
     "name": "stderr",
     "output_type": "stream",
     "text": [
      "Lossy conversion from float64 to uint8. Range [0.0, 1.7078921794891357]. Convert image to uint8 prior to saving to suppress this warning.\n"
     ]
    },
    {
     "name": "stdout",
     "output_type": "stream",
     "text": [
      "(1280, 704) (1280, 704)\n"
     ]
    },
    {
     "name": "stderr",
     "output_type": "stream",
     "text": [
      "Lossy conversion from float64 to uint8. Range [0.0, 1.7078921794891357]. Convert image to uint8 prior to saving to suppress this warning.\n"
     ]
    },
    {
     "name": "stdout",
     "output_type": "stream",
     "text": [
      "(1280, 704) (1280, 704)\n"
     ]
    },
    {
     "name": "stderr",
     "output_type": "stream",
     "text": [
      "Lossy conversion from float64 to uint8. Range [0.0, 1.5764150619506836]. Convert image to uint8 prior to saving to suppress this warning.\n"
     ]
    },
    {
     "name": "stdout",
     "output_type": "stream",
     "text": [
      "(1280, 704) (1280, 704)\n"
     ]
    },
    {
     "name": "stderr",
     "output_type": "stream",
     "text": [
      "Lossy conversion from float64 to uint8. Range [0.0, 1.6456761360168457]. Convert image to uint8 prior to saving to suppress this warning.\n"
     ]
    },
    {
     "name": "stdout",
     "output_type": "stream",
     "text": [
      "(1280, 704) (1280, 704)\n"
     ]
    },
    {
     "name": "stderr",
     "output_type": "stream",
     "text": [
      "Lossy conversion from float64 to uint8. Range [0.0, 1.6456761360168457]. Convert image to uint8 prior to saving to suppress this warning.\n"
     ]
    },
    {
     "name": "stdout",
     "output_type": "stream",
     "text": [
      "(1280, 704) (1280, 704)\n"
     ]
    },
    {
     "name": "stderr",
     "output_type": "stream",
     "text": [
      "Lossy conversion from float64 to uint8. Range [0.0, 1.6456761360168457]. Convert image to uint8 prior to saving to suppress this warning.\n"
     ]
    },
    {
     "name": "stdout",
     "output_type": "stream",
     "text": [
      "(1280, 704) (1280, 704)\n"
     ]
    },
    {
     "name": "stderr",
     "output_type": "stream",
     "text": [
      "Lossy conversion from float64 to uint8. Range [0.0, 1.6373955011367798]. Convert image to uint8 prior to saving to suppress this warning.\n"
     ]
    },
    {
     "name": "stdout",
     "output_type": "stream",
     "text": [
      "(1280, 704) (1280, 704)\n"
     ]
    },
    {
     "name": "stderr",
     "output_type": "stream",
     "text": [
      "Lossy conversion from float64 to uint8. Range [0.0, 1.578015685081482]. Convert image to uint8 prior to saving to suppress this warning.\n"
     ]
    },
    {
     "name": "stdout",
     "output_type": "stream",
     "text": [
      "(1280, 704) (1280, 704)\n"
     ]
    },
    {
     "name": "stderr",
     "output_type": "stream",
     "text": [
      "Lossy conversion from float64 to uint8. Range [0.0, 1.578015685081482]. Convert image to uint8 prior to saving to suppress this warning.\n"
     ]
    },
    {
     "name": "stdout",
     "output_type": "stream",
     "text": [
      "(1280, 704) (1280, 704)\n"
     ]
    },
    {
     "name": "stderr",
     "output_type": "stream",
     "text": [
      "Lossy conversion from float64 to uint8. Range [0.0, 1.578015685081482]. Convert image to uint8 prior to saving to suppress this warning.\n"
     ]
    },
    {
     "name": "stdout",
     "output_type": "stream",
     "text": [
      "(1280, 704) (1280, 704)\n"
     ]
    },
    {
     "name": "stderr",
     "output_type": "stream",
     "text": [
      "Lossy conversion from float64 to uint8. Range [0.0, 1.5225197076797485]. Convert image to uint8 prior to saving to suppress this warning.\n"
     ]
    },
    {
     "name": "stdout",
     "output_type": "stream",
     "text": [
      "(1280, 704) (1280, 704)\n"
     ]
    },
    {
     "name": "stderr",
     "output_type": "stream",
     "text": [
      "Lossy conversion from float64 to uint8. Range [0.0, 1.4859195947647095]. Convert image to uint8 prior to saving to suppress this warning.\n"
     ]
    },
    {
     "name": "stdout",
     "output_type": "stream",
     "text": [
      "(1280, 704) (1280, 704)\n"
     ]
    },
    {
     "name": "stderr",
     "output_type": "stream",
     "text": [
      "Lossy conversion from float64 to uint8. Range [0.0, 1.43598473072052]. Convert image to uint8 prior to saving to suppress this warning.\n"
     ]
    },
    {
     "name": "stdout",
     "output_type": "stream",
     "text": [
      "(1280, 704) (1280, 704)\n"
     ]
    },
    {
     "name": "stderr",
     "output_type": "stream",
     "text": [
      "Lossy conversion from float64 to uint8. Range [0.0, 1.43598473072052]. Convert image to uint8 prior to saving to suppress this warning.\n"
     ]
    },
    {
     "name": "stdout",
     "output_type": "stream",
     "text": [
      "(1280, 704) (1280, 704)\n"
     ]
    },
    {
     "name": "stderr",
     "output_type": "stream",
     "text": [
      "Lossy conversion from float64 to uint8. Range [0.0, 1.4210439920425415]. Convert image to uint8 prior to saving to suppress this warning.\n"
     ]
    },
    {
     "name": "stdout",
     "output_type": "stream",
     "text": [
      "(1280, 704) (1280, 704)\n"
     ]
    },
    {
     "name": "stderr",
     "output_type": "stream",
     "text": [
      "Lossy conversion from float64 to uint8. Range [0.0, 1.3677177429199219]. Convert image to uint8 prior to saving to suppress this warning.\n"
     ]
    },
    {
     "name": "stdout",
     "output_type": "stream",
     "text": [
      "(1280, 704) (1280, 704)\n"
     ]
    }
   ],
   "source": [
    "import pandas as pd\n",
    "outResDIr = './Final_Results'\n",
    "OriginalframesList = sorted(os.listdir('../frames'))\n",
    "FinalResultOutList = sorted(os.listdir(outResDIr))\n",
    "\n",
    "df_Counts = pd.read_csv('./Final_Results/All_Counts.txt', sep=' ', header=None)\n",
    "countsList = df_Counts[:][1].values\n",
    "\n",
    "for file_index in range(0,len(FinalResultOutList)-1):\n",
    "    csvOutput = genfromtxt(outResDIr + '/' + FinalResultOutList[file_index+1], delimiter=',')\n",
    "    im = imageio.imwrite('outfile.jpg', csvOutput)\n",
    "\n",
    "    #blending imdages\n",
    "    convert_imgs=[]\n",
    "    convert_imgs.append(Image.open('outfile.jpg'))\n",
    "    convert_imgs.append(Image.open('../frames/' + OriginalframesList[file_index]))\n",
    "    blended_img = Image.blend(convert_imgs[0].convert(\"RGB\"), convert_imgs[1].convert(\"RGB\"), alpha=.20)\n",
    "    # blended_img.save('.'+'/'+'blendedImOut.jpg')\n",
    "\n",
    "    if len(countsList) > file_index:\n",
    "        draw = ImageDraw.Draw(blended_img)\n",
    "\n",
    "        # Choose a font and set the font size\n",
    "        font = ImageFont.truetype('arial.ttf', 36)\n",
    "\n",
    "        # Set the text color and draw the text\n",
    "        text_color = (255, 255, 255)  # White\n",
    "        position = (10, 10)  # Top left corner of the text\n",
    "        draw.text(position, 'COUNT: {}'.format(countsList[file_index]), font=font, fill=text_color)\n",
    "\n",
    "        # Save the modified image\n",
    "    blended_img.save('../FinalFrames/'+ OriginalframesList[file_index] + '_OUT' + '.jpg')"
   ]
  },
  {
   "cell_type": "markdown",
   "metadata": {},
   "source": [
    "Video"
   ]
  },
  {
   "cell_type": "code",
   "execution_count": 57,
   "metadata": {},
   "outputs": [],
   "source": [
    "import re\n",
    "def sorted_alphanumeric(data):\n",
    "    convert = lambda text: int(text) if text.isdigit() else text.lower()\n",
    "    alphanum_key = lambda key: [ convert(c) for c in re.split('([0-9]+)', key) ] \n",
    "    return sorted(data, key=alphanum_key)\n",
    "\n",
    "image_folder='../FinalFrames'\n",
    "output_video_name = '../Hajj_Data_1.avi'\n",
    "images = [img for img in sorted_alphanumeric(os.listdir(image_folder)) \n",
    "\t\t\tif img.endswith(\".jpg\") or\n",
    "\t\t\t\timg.endswith(\".jpeg\") or\n",
    "\t\t\t\timg.endswith(\".png\")] \n",
    "frame = cv2.imread(os.path.join(image_folder, images[1])) \n",
    "\n",
    "# setting the frame width, height width \n",
    "# the width, height of first image \n",
    "height, width, layers = frame.shape \n",
    "\n",
    "video = cv2.VideoWriter(output_video_name, 0, 1, (width, height)) \n",
    "\n",
    "# Appending the images to the video one by one \n",
    "for image in images: \n",
    "    video.write(cv2.imread(os.path.join(image_folder, image))) \n",
    "\n",
    "# Deallocating memories taken for window creation \n",
    "cv2.destroyAllWindows() \n",
    "video.release() # releasing the video generated "
   ]
  }
 ],
 "metadata": {
  "kernelspec": {
   "display_name": "Python 3.7.13 ('ogenv02Kelvin')",
   "language": "python",
   "name": "python3"
  },
  "language_info": {
   "codemirror_mode": {
    "name": "ipython",
    "version": 3
   },
   "file_extension": ".py",
   "mimetype": "text/x-python",
   "name": "python",
   "nbconvert_exporter": "python",
   "pygments_lexer": "ipython3",
   "version": "3.7.13"
  },
  "orig_nbformat": 4,
  "vscode": {
   "interpreter": {
    "hash": "067042b648f0cbb52475e65a54b3ebd3b9cd65b49b67bf0bfbca076ca2fdeb80"
   }
  }
 },
 "nbformat": 4,
 "nbformat_minor": 2
}
